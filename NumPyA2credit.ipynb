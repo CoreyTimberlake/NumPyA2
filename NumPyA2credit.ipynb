{
  "nbformat": 4,
  "nbformat_minor": 0,
  "metadata": {
    "colab": {
      "provenance": []
    },
    "kernelspec": {
      "name": "python3",
      "display_name": "Python 3"
    },
    "language_info": {
      "name": "python"
    }
  },
  "cells": [
    {
      "cell_type": "code",
      "execution_count": 74,
      "metadata": {
        "id": "qhXLhs1pCcCi"
      },
      "outputs": [],
      "source": [
        "import numpy as np\n",
        "\n",
        "np.random.seed(56)\n",
        "Q1 = np.random.randint(20, size = (10,10))\n",
        "#print(Q1)\n",
        "\n",
        "Q2 = Q1[2:-5, 3:-2]\n",
        "#print(Q2)\n",
        "\n",
        "Q3 = Q1[7:, 4:-4]\n",
        "#Q3 = np.reshape(Q3,(2,3))\n",
        "#print(Q3)\n",
        "\n",
        "Q4 = np.reshape(Q3,(2,3))\n",
        "#print(Q4)\n",
        "\n",
        "x = np.random.randint(15, size = 10)\n",
        "y = np.random.randint(15, size = 10)\n",
        "\n",
        "Q5 = np.concatenate((x,y))\n",
        "#print(Q5)\n",
        "\n",
        "Q6a = Q5[:4]\n",
        "#print(Q6a)\n",
        "\n",
        "Q6b = Q5[4:-9]\n",
        "#print(Q6b)\n",
        "\n",
        "Q6c = Q5[11:-3]\n",
        "#print(Q6c)\n",
        "\n",
        "Q6d = Q5[17:]\n",
        "#print(Q6d)\n",
        "\n",
        "Q7 = np.sum(Q5)\n",
        "#print(Q5)\n",
        "\n",
        "Q8 = np.random.randint(48, 86, 50).mean()\n",
        "\n",
        "Q9 = np.array([(\"Jonathan Loaisiga\", \"Baseball player\", 595800.00), (\"Nick Saban\", \"Football coach\", 8619934.23), (\"Katie Ladecky\", \"Swimmer\", 100000.00)],\n",
        "              dtype=[('Name', 'U20'), ('Occupation', 'U20'), ('Salary', 'f8')])\n",
        "\n",
        "#print(Q9)"
      ]
    }
  ]
}